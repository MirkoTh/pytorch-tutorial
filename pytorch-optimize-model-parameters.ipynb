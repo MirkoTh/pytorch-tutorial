{
 "cells": [
  {
   "cell_type": "code",
   "execution_count": 1,
   "id": "94502b80",
   "metadata": {
    "ExecuteTime": {
     "end_time": "2023-01-05T09:52:44.565483Z",
     "start_time": "2023-01-05T09:52:43.167122Z"
    }
   },
   "outputs": [],
   "source": [
    "import torch\n",
    "from torch import nn\n",
    "from torch.utils.data import DataLoader\n",
    "from torchvision import datasets\n",
    "from torchvision.transforms import ToTensor"
   ]
  },
  {
   "cell_type": "code",
   "execution_count": 2,
   "id": "6f7ddcf2",
   "metadata": {
    "ExecuteTime": {
     "end_time": "2023-01-05T09:52:44.625837Z",
     "start_time": "2023-01-05T09:52:44.567498Z"
    }
   },
   "outputs": [],
   "source": [
    "training_data = datasets.FashionMNIST(\n",
    "    root=\"data\",\n",
    "    train=True,\n",
    "    download=True,\n",
    "    transform=ToTensor()\n",
    ")\n",
    "\n",
    "test_data = datasets.FashionMNIST(\n",
    "    root=\"data\",\n",
    "    train=False,\n",
    "    download=True,\n",
    "    transform=ToTensor()\n",
    ")\n",
    "\n",
    "train_dataloader = DataLoader(training_data, batch_size=64)\n",
    "test_dataloader = DataLoader(test_data, batch_size=64)\n",
    "\n",
    "class NeuralNetwork(nn.Module):\n",
    "    def __init__(self):\n",
    "        super(NeuralNetwork, self).__init__()\n",
    "        self.flatten = nn.Flatten()\n",
    "        self.linear_relu_stack = nn.Sequential(\n",
    "            nn.Linear(28*28, 512),\n",
    "            nn.ReLU(),\n",
    "            nn.Linear(512, 512),\n",
    "            nn.ReLU(),\n",
    "            nn.Linear(512, 10),\n",
    "        )\n",
    "\n",
    "    def forward(self, x):\n",
    "        x = self.flatten(x)\n",
    "        logits = self.linear_relu_stack(x)\n",
    "        return logits\n",
    "\n",
    "model = NeuralNetwork()"
   ]
  },
  {
   "cell_type": "code",
   "execution_count": 8,
   "id": "4399ef74",
   "metadata": {
    "ExecuteTime": {
     "end_time": "2023-01-05T09:54:41.765237Z",
     "start_time": "2023-01-05T09:54:41.757188Z"
    }
   },
   "outputs": [],
   "source": [
    "def count_parameters(model):\n",
    "    return sum(p.numel() for p in model.parameters() if p.requires_grad)"
   ]
  },
  {
   "cell_type": "code",
   "execution_count": 9,
   "id": "cd141929",
   "metadata": {
    "ExecuteTime": {
     "end_time": "2023-01-05T09:54:46.975123Z",
     "start_time": "2023-01-05T09:54:46.957044Z"
    }
   },
   "outputs": [
    {
     "data": {
      "text/plain": [
       "669706"
      ]
     },
     "execution_count": 9,
     "metadata": {},
     "output_type": "execute_result"
    }
   ],
   "source": [
    "count_parameters(model)"
   ]
  },
  {
   "cell_type": "code",
   "execution_count": 3,
   "id": "0d74fbd6",
   "metadata": {
    "ExecuteTime": {
     "end_time": "2023-01-05T09:52:44.645928Z",
     "start_time": "2023-01-05T09:52:44.627847Z"
    }
   },
   "outputs": [],
   "source": [
    "learning_rate = 1e-3\n",
    "batch_size = 64\n",
    "epochs = 5"
   ]
  },
  {
   "cell_type": "code",
   "execution_count": 4,
   "id": "057bfb99",
   "metadata": {
    "ExecuteTime": {
     "end_time": "2023-01-05T09:52:45.731007Z",
     "start_time": "2023-01-05T09:52:45.712920Z"
    }
   },
   "outputs": [],
   "source": [
    "# Initialize the loss function\n",
    "loss_fn = nn.CrossEntropyLoss()"
   ]
  },
  {
   "cell_type": "code",
   "execution_count": 5,
   "id": "615cfba3",
   "metadata": {
    "ExecuteTime": {
     "end_time": "2023-01-05T09:52:45.891719Z",
     "start_time": "2023-01-05T09:52:45.873651Z"
    }
   },
   "outputs": [],
   "source": [
    "optimizer = torch.optim.SGD(model.parameters(), lr=learning_rate)"
   ]
  },
  {
   "cell_type": "code",
   "execution_count": 6,
   "id": "cf2c1fb6",
   "metadata": {
    "ExecuteTime": {
     "end_time": "2023-01-05T09:52:46.942598Z",
     "start_time": "2023-01-05T09:52:46.924513Z"
    }
   },
   "outputs": [],
   "source": [
    "def train_loop(dataloader, model, loss_fn, optimizer):\n",
    "    size = len(dataloader.dataset)\n",
    "    for batch, (X, y) in enumerate(dataloader):\n",
    "        # Compute prediction and loss\n",
    "        pred = model(X)\n",
    "        loss = loss_fn(pred, y)\n",
    "\n",
    "        # Backpropagation\n",
    "        optimizer.zero_grad()\n",
    "        loss.backward()\n",
    "        optimizer.step()\n",
    "\n",
    "        if batch % 100 == 0:\n",
    "            loss, current = loss.item(), batch * len(X)\n",
    "            print(f\"loss: {loss:>7f}  [{current:>5d}/{size:>5d}]\")\n",
    "\n",
    "\n",
    "def test_loop(dataloader, model, loss_fn):\n",
    "    size = len(dataloader.dataset)\n",
    "    num_batches = len(dataloader)\n",
    "    test_loss, correct = 0, 0\n",
    "\n",
    "    with torch.no_grad():\n",
    "        for X, y in dataloader:\n",
    "            pred = model(X)\n",
    "            test_loss += loss_fn(pred, y).item()\n",
    "            correct += (pred.argmax(1) == y).type(torch.float).sum().item()\n",
    "\n",
    "    test_loss /= num_batches\n",
    "    correct /= size\n",
    "    print(f\"Test Error: \\n Accuracy: {(100*correct):>0.1f}%, Avg loss: {test_loss:>8f} \\n\")"
   ]
  },
  {
   "cell_type": "code",
   "execution_count": 7,
   "id": "4cec6a0d",
   "metadata": {
    "ExecuteTime": {
     "end_time": "2023-01-04T09:15:15.770689Z",
     "start_time": "2023-01-04T09:13:22.752453Z"
    }
   },
   "outputs": [
    {
     "name": "stdout",
     "output_type": "stream",
     "text": [
      "Epoch 1\n",
      "-------------------------------\n",
      "loss: 2.309648  [    0/60000]\n",
      "loss: 2.292466  [ 6400/60000]\n",
      "loss: 2.277254  [12800/60000]\n",
      "loss: 2.266875  [19200/60000]\n",
      "loss: 2.249865  [25600/60000]\n",
      "loss: 2.229623  [32000/60000]\n",
      "loss: 2.223492  [38400/60000]\n",
      "loss: 2.196262  [44800/60000]\n",
      "loss: 2.199239  [51200/60000]\n",
      "loss: 2.160072  [57600/60000]\n",
      "Test Error: \n",
      " Accuracy: 46.6%, Avg loss: 2.157111 \n",
      "\n",
      "Epoch 2\n",
      "-------------------------------\n",
      "loss: 2.176044  [    0/60000]\n",
      "loss: 2.160685  [ 6400/60000]\n",
      "loss: 2.104154  [12800/60000]\n",
      "loss: 2.115921  [19200/60000]\n",
      "loss: 2.063672  [25600/60000]\n",
      "loss: 2.015175  [32000/60000]\n",
      "loss: 2.023758  [38400/60000]\n",
      "loss: 1.954054  [44800/60000]\n",
      "loss: 1.964062  [51200/60000]\n",
      "loss: 1.871597  [57600/60000]\n",
      "Test Error: \n",
      " Accuracy: 58.6%, Avg loss: 1.881877 \n",
      "\n",
      "Epoch 3\n",
      "-------------------------------\n",
      "loss: 1.926156  [    0/60000]\n",
      "loss: 1.890675  [ 6400/60000]\n",
      "loss: 1.771225  [12800/60000]\n",
      "loss: 1.803295  [19200/60000]\n",
      "loss: 1.695147  [25600/60000]\n",
      "loss: 1.658384  [32000/60000]\n",
      "loss: 1.655009  [38400/60000]\n",
      "loss: 1.573798  [44800/60000]\n",
      "loss: 1.598776  [51200/60000]\n",
      "loss: 1.479214  [57600/60000]\n",
      "Test Error: \n",
      " Accuracy: 60.1%, Avg loss: 1.510396 \n",
      "\n",
      "Epoch 4\n",
      "-------------------------------\n",
      "loss: 1.586521  [    0/60000]\n",
      "loss: 1.551927  [ 6400/60000]\n",
      "loss: 1.399023  [12800/60000]\n",
      "loss: 1.464419  [19200/60000]\n",
      "loss: 1.346263  [25600/60000]\n",
      "loss: 1.356831  [32000/60000]\n",
      "loss: 1.345867  [38400/60000]\n",
      "loss: 1.289356  [44800/60000]\n",
      "loss: 1.323189  [51200/60000]\n",
      "loss: 1.219854  [57600/60000]\n",
      "Test Error: \n",
      " Accuracy: 62.5%, Avg loss: 1.250446 \n",
      "\n",
      "Epoch 5\n",
      "-------------------------------\n",
      "loss: 1.331442  [    0/60000]\n",
      "loss: 1.315603  [ 6400/60000]\n",
      "loss: 1.145588  [12800/60000]\n",
      "loss: 1.251642  [19200/60000]\n",
      "loss: 1.121537  [25600/60000]\n",
      "loss: 1.162860  [32000/60000]\n",
      "loss: 1.160920  [38400/60000]\n",
      "loss: 1.115726  [44800/60000]\n",
      "loss: 1.154743  [51200/60000]\n",
      "loss: 1.070166  [57600/60000]\n",
      "Test Error: \n",
      " Accuracy: 64.4%, Avg loss: 1.091751 \n",
      "\n",
      "Epoch 6\n",
      "-------------------------------\n",
      "loss: 1.162800  [    0/60000]\n",
      "loss: 1.167377  [ 6400/60000]\n",
      "loss: 0.981541  [12800/60000]\n",
      "loss: 1.121227  [19200/60000]\n",
      "loss: 0.986284  [25600/60000]\n",
      "loss: 1.034113  [32000/60000]\n",
      "loss: 1.047373  [38400/60000]\n",
      "loss: 1.006479  [44800/60000]\n",
      "loss: 1.044545  [51200/60000]\n",
      "loss: 0.975671  [57600/60000]\n",
      "Test Error: \n",
      " Accuracy: 65.6%, Avg loss: 0.989230 \n",
      "\n",
      "Epoch 7\n",
      "-------------------------------\n",
      "loss: 1.045224  [    0/60000]\n",
      "loss: 1.070071  [ 6400/60000]\n",
      "loss: 0.869488  [12800/60000]\n",
      "loss: 1.033940  [19200/60000]\n",
      "loss: 0.901069  [25600/60000]\n",
      "loss: 0.942291  [32000/60000]\n",
      "loss: 0.971612  [38400/60000]\n",
      "loss: 0.934284  [44800/60000]\n",
      "loss: 0.966042  [51200/60000]\n",
      "loss: 0.910465  [57600/60000]\n",
      "Test Error: \n",
      " Accuracy: 67.1%, Avg loss: 0.917479 \n",
      "\n",
      "Epoch 8\n",
      "-------------------------------\n",
      "loss: 0.956988  [    0/60000]\n",
      "loss: 1.000189  [ 6400/60000]\n",
      "loss: 0.787830  [12800/60000]\n",
      "loss: 0.970148  [19200/60000]\n",
      "loss: 0.842987  [25600/60000]\n",
      "loss: 0.872225  [32000/60000]\n",
      "loss: 0.916663  [38400/60000]\n",
      "loss: 0.884333  [44800/60000]\n",
      "loss: 0.906940  [51200/60000]\n",
      "loss: 0.861884  [57600/60000]\n",
      "Test Error: \n",
      " Accuracy: 68.5%, Avg loss: 0.863975 \n",
      "\n",
      "Epoch 9\n",
      "-------------------------------\n",
      "loss: 0.887163  [    0/60000]\n",
      "loss: 0.946207  [ 6400/60000]\n",
      "loss: 0.725687  [12800/60000]\n",
      "loss: 0.920847  [19200/60000]\n",
      "loss: 0.800319  [25600/60000]\n",
      "loss: 0.817325  [32000/60000]\n",
      "loss: 0.873829  [38400/60000]\n",
      "loss: 0.848288  [44800/60000]\n",
      "loss: 0.861248  [51200/60000]\n",
      "loss: 0.824019  [57600/60000]\n",
      "Test Error: \n",
      " Accuracy: 69.8%, Avg loss: 0.822382 \n",
      "\n",
      "Epoch 10\n",
      "-------------------------------\n",
      "loss: 0.830509  [    0/60000]\n",
      "loss: 0.902295  [ 6400/60000]\n",
      "loss: 0.676568  [12800/60000]\n",
      "loss: 0.881906  [19200/60000]\n",
      "loss: 0.767361  [25600/60000]\n",
      "loss: 0.774043  [32000/60000]\n",
      "loss: 0.838933  [38400/60000]\n",
      "loss: 0.821167  [44800/60000]\n",
      "loss: 0.825282  [51200/60000]\n",
      "loss: 0.793257  [57600/60000]\n",
      "Test Error: \n",
      " Accuracy: 71.4%, Avg loss: 0.788942 \n",
      "\n",
      "Done!\n"
     ]
    }
   ],
   "source": [
    "loss_fn = nn.CrossEntropyLoss()\n",
    "optimizer = torch.optim.SGD(model.parameters(), lr=learning_rate)\n",
    "\n",
    "epochs = 10\n",
    "for t in range(epochs):\n",
    "    print(f\"Epoch {t+1}\\n-------------------------------\")\n",
    "    train_loop(train_dataloader, model, loss_fn, optimizer)\n",
    "    test_loop(test_dataloader, model, loss_fn)\n",
    "print(\"Done!\")"
   ]
  },
  {
   "cell_type": "code",
   "execution_count": null,
   "id": "0a4a7cf6",
   "metadata": {},
   "outputs": [],
   "source": []
  }
 ],
 "metadata": {
  "kernelspec": {
   "display_name": "Python 3 (ipykernel)",
   "language": "python",
   "name": "python3"
  },
  "language_info": {
   "codemirror_mode": {
    "name": "ipython",
    "version": 3
   },
   "file_extension": ".py",
   "mimetype": "text/x-python",
   "name": "python",
   "nbconvert_exporter": "python",
   "pygments_lexer": "ipython3",
   "version": "3.10.8"
  }
 },
 "nbformat": 4,
 "nbformat_minor": 5
}
